{
 "cells": [
  {
   "cell_type": "code",
   "execution_count": 1,
   "id": "1e519185-6827-47bb-bc89-dfc6fd281e44",
   "metadata": {},
   "outputs": [],
   "source": [
    "from oceancolor_music_funcs import get_oceancolor_data, make_midi"
   ]
  },
  {
   "cell_type": "code",
   "execution_count": 2,
   "id": "bbebd580-f0cc-4993-9113-fcfef13dfb8a",
   "metadata": {},
   "outputs": [],
   "source": [
    "Rrs = get_oceancolor_data(2000,7,0,[-30,-20])\n"
   ]
  },
  {
   "cell_type": "code",
   "execution_count": 3,
   "id": "3cc5be3c-072c-4b1c-bdc4-e5b8b689f783",
   "metadata": {},
   "outputs": [],
   "source": [
    "output_file = 'test.mid'\n",
    "make_midi(Rrs,output_file)"
   ]
  },
  {
   "cell_type": "code",
   "execution_count": 13,
   "id": "e3b7df1a-c45c-4608-9803-68f324b85a62",
   "metadata": {},
   "outputs": [],
   "source": [
    "# set-up to play in browser - but it will sound better in another program (such as Garage Band)\n",
    "from pygame import mixer\n",
    "\n",
    "mixer.init()"
   ]
  },
  {
   "cell_type": "code",
   "execution_count": 11,
   "id": "cc0786a4-cd24-4ab8-aeea-bfe20f292901",
   "metadata": {},
   "outputs": [],
   "source": [
    "mixer.music.load(output_file)\n",
    "mixer.music.play()"
   ]
  },
  {
   "cell_type": "code",
   "execution_count": 12,
   "id": "903d7bcc-500f-4815-b90d-bae40f3f3313",
   "metadata": {},
   "outputs": [],
   "source": [
    "mixer.music.stop()"
   ]
  }
 ],
 "metadata": {
  "kernelspec": {
   "display_name": "Python 3 (ipykernel)",
   "language": "python",
   "name": "python3"
  },
  "language_info": {
   "codemirror_mode": {
    "name": "ipython",
    "version": 3
   },
   "file_extension": ".py",
   "mimetype": "text/x-python",
   "name": "python",
   "nbconvert_exporter": "python",
   "pygments_lexer": "ipython3",
   "version": "3.9.7"
  }
 },
 "nbformat": 4,
 "nbformat_minor": 5
}
